{
 "cells": [
  {
   "cell_type": "code",
   "execution_count": 2,
   "metadata": {},
   "outputs": [],
   "source": [
    "# for connecting to a database \n",
    "import os\n",
    "import psycopg2 as pg\n",
    "\n",
    "# For data manipulation and analysis\n",
    "import pandas as pd\n",
    "import pandas.io.sql as psql\n",
    "pd.options.display.max_colwidth = 200"
   ]
  },
  {
   "cell_type": "code",
   "execution_count": 3,
   "metadata": {},
   "outputs": [
    {
     "data": {
      "text/html": [
       "<div>\n",
       "<style scoped>\n",
       "    .dataframe tbody tr th:only-of-type {\n",
       "        vertical-align: middle;\n",
       "    }\n",
       "\n",
       "    .dataframe tbody tr th {\n",
       "        vertical-align: top;\n",
       "    }\n",
       "\n",
       "    .dataframe thead th {\n",
       "        text-align: right;\n",
       "    }\n",
       "</style>\n",
       "<table border=\"1\" class=\"dataframe\">\n",
       "  <thead>\n",
       "    <tr style=\"text-align: right;\">\n",
       "      <th></th>\n",
       "      <th>fk_pmid</th>\n",
       "      <th>year</th>\n",
       "      <th>abstract</th>\n",
       "      <th>diversity</th>\n",
       "      <th>soc_diversity</th>\n",
       "    </tr>\n",
       "  </thead>\n",
       "  <tbody>\n",
       "    <tr>\n",
       "      <th>0</th>\n",
       "      <td>8956565</td>\n",
       "      <td>1996</td>\n",
       "      <td>OBJECTIVE:\\nDetermination of skeletal or bone age is often used in pediatrics and orthopedics. The most commonly used bone age standards in the United States, those published by Greulich and Pyle,...</td>\n",
       "      <td>1.0</td>\n",
       "      <td>1.0</td>\n",
       "    </tr>\n",
       "    <tr>\n",
       "      <th>1</th>\n",
       "      <td>30764487</td>\n",
       "      <td>2019</td>\n",
       "      <td>Prenatal tobacco exposure is a significant, preventable cause of childhood morbidity, yet little is known about exposure risks for many race/ethnic subpopulations. We studied active smoking and en...</td>\n",
       "      <td>1.0</td>\n",
       "      <td>1.0</td>\n",
       "    </tr>\n",
       "    <tr>\n",
       "      <th>2</th>\n",
       "      <td>17015498</td>\n",
       "      <td>2006</td>\n",
       "      <td>OBJECTIVE:\\nAmong premature infants, formula feeding increases the risk for necrotizing enterocolitis, delayed brainstem maturation, decreased scoring on cognitive and developmental tests, and del...</td>\n",
       "      <td>1.0</td>\n",
       "      <td>1.0</td>\n",
       "    </tr>\n",
       "    <tr>\n",
       "      <th>3</th>\n",
       "      <td>29020025</td>\n",
       "      <td>2017</td>\n",
       "      <td>OBJECTIVE:\\nThe causes of the large and persistent Black-White disparity in preterm birth (PTB) are unknown. It is biologically plausible that chronic stress across a woman's life course could be ...</td>\n",
       "      <td>1.0</td>\n",
       "      <td>1.0</td>\n",
       "    </tr>\n",
       "    <tr>\n",
       "      <th>4</th>\n",
       "      <td>21863024</td>\n",
       "      <td>2011</td>\n",
       "      <td>BACKGROUND:\\nThis study aimed to examine the incidence and survival of lung cancer patients from several different ethnic groups in a large ethnically diverse population in the United Kingdom.\\nME...</td>\n",
       "      <td>1.0</td>\n",
       "      <td>1.0</td>\n",
       "    </tr>\n",
       "  </tbody>\n",
       "</table>\n",
       "</div>"
      ],
      "text/plain": [
       "    fk_pmid  year  \\\n",
       "0   8956565  1996   \n",
       "1  30764487  2019   \n",
       "2  17015498  2006   \n",
       "3  29020025  2017   \n",
       "4  21863024  2011   \n",
       "\n",
       "                                                                                                                                                                                                  abstract  \\\n",
       "0  OBJECTIVE:\\nDetermination of skeletal or bone age is often used in pediatrics and orthopedics. The most commonly used bone age standards in the United States, those published by Greulich and Pyle,...   \n",
       "1  Prenatal tobacco exposure is a significant, preventable cause of childhood morbidity, yet little is known about exposure risks for many race/ethnic subpopulations. We studied active smoking and en...   \n",
       "2  OBJECTIVE:\\nAmong premature infants, formula feeding increases the risk for necrotizing enterocolitis, delayed brainstem maturation, decreased scoring on cognitive and developmental tests, and del...   \n",
       "3  OBJECTIVE:\\nThe causes of the large and persistent Black-White disparity in preterm birth (PTB) are unknown. It is biologically plausible that chronic stress across a woman's life course could be ...   \n",
       "4  BACKGROUND:\\nThis study aimed to examine the incidence and survival of lung cancer patients from several different ethnic groups in a large ethnically diverse population in the United Kingdom.\\nME...   \n",
       "\n",
       "   diversity  soc_diversity  \n",
       "0        1.0            1.0  \n",
       "1        1.0            1.0  \n",
       "2        1.0            1.0  \n",
       "3        1.0            1.0  \n",
       "4        1.0            1.0  "
      ]
     },
     "execution_count": 3,
     "metadata": {},
     "output_type": "execute_result"
    }
   ],
   "source": [
    "# connect to the database, download data \n",
    "connection = pg.connect(host = 'postgis1', database = 'sdad', \n",
    "                        user = os.environ.get('db_user'), \n",
    "                        password = os.environ.get('db_pwd'))\n",
    "\n",
    "diversity_abstracts = '''SELECT fk_pmid, year, abstract, diversity, soc_diversity\n",
    "                         FROM pubmed_2021.soc_diversity_abstracts\n",
    "                         WHERE diversity = 1 OR soc_diversity = 1'''\n",
    "\n",
    "# convert to a dataframe, show how many missing we have (none)\n",
    "diversity_abstracts = pd.read_sql_query(diversity_abstracts, con=connection)\n",
    "diversity_abstracts.head()"
   ]
  },
  {
   "cell_type": "code",
   "execution_count": 4,
   "metadata": {},
   "outputs": [
    {
     "data": {
      "text/plain": [
       "18301"
      ]
     },
     "execution_count": 4,
     "metadata": {},
     "output_type": "execute_result"
    }
   ],
   "source": [
    "len(diversity_abstracts)"
   ]
  },
  {
   "cell_type": "code",
   "execution_count": 8,
   "metadata": {},
   "outputs": [
    {
     "data": {
      "text/plain": [
       "1.0    11789\n",
       "0.0     6512\n",
       "Name: soc_diversity, dtype: int64"
      ]
     },
     "execution_count": 8,
     "metadata": {},
     "output_type": "execute_result"
    }
   ],
   "source": [
    "diversity_abstracts['soc_diversity'].value_counts()"
   ]
  },
  {
   "cell_type": "code",
   "execution_count": 12,
   "metadata": {},
   "outputs": [
    {
     "data": {
      "text/html": [
       "<div>\n",
       "<style scoped>\n",
       "    .dataframe tbody tr th:only-of-type {\n",
       "        vertical-align: middle;\n",
       "    }\n",
       "\n",
       "    .dataframe tbody tr th {\n",
       "        vertical-align: top;\n",
       "    }\n",
       "\n",
       "    .dataframe thead th {\n",
       "        text-align: right;\n",
       "    }\n",
       "</style>\n",
       "<table border=\"1\" class=\"dataframe\">\n",
       "  <thead>\n",
       "    <tr style=\"text-align: right;\">\n",
       "      <th></th>\n",
       "      <th>fk_pmid</th>\n",
       "      <th>year</th>\n",
       "      <th>abstract</th>\n",
       "      <th>diversity</th>\n",
       "      <th>soc_diversity</th>\n",
       "      <th>sample</th>\n",
       "    </tr>\n",
       "  </thead>\n",
       "  <tbody>\n",
       "    <tr>\n",
       "      <th>0</th>\n",
       "      <td>8956565</td>\n",
       "      <td>1996</td>\n",
       "      <td>OBJECTIVE:\\nDetermination of skeletal or bone age is often used in pediatrics and orthopedics. The most commonly used bone age standards in the United States, those published by Greulich and Pyle,...</td>\n",
       "      <td>1.0</td>\n",
       "      <td>1.0</td>\n",
       "      <td>early</td>\n",
       "    </tr>\n",
       "    <tr>\n",
       "      <th>1</th>\n",
       "      <td>30764487</td>\n",
       "      <td>2019</td>\n",
       "      <td>Prenatal tobacco exposure is a significant, preventable cause of childhood morbidity, yet little is known about exposure risks for many race/ethnic subpopulations. We studied active smoking and en...</td>\n",
       "      <td>1.0</td>\n",
       "      <td>1.0</td>\n",
       "      <td>later</td>\n",
       "    </tr>\n",
       "    <tr>\n",
       "      <th>3</th>\n",
       "      <td>29020025</td>\n",
       "      <td>2017</td>\n",
       "      <td>OBJECTIVE:\\nThe causes of the large and persistent Black-White disparity in preterm birth (PTB) are unknown. It is biologically plausible that chronic stress across a woman's life course could be ...</td>\n",
       "      <td>1.0</td>\n",
       "      <td>1.0</td>\n",
       "      <td>later</td>\n",
       "    </tr>\n",
       "    <tr>\n",
       "      <th>4</th>\n",
       "      <td>21863024</td>\n",
       "      <td>2011</td>\n",
       "      <td>BACKGROUND:\\nThis study aimed to examine the incidence and survival of lung cancer patients from several different ethnic groups in a large ethnically diverse population in the United Kingdom.\\nME...</td>\n",
       "      <td>1.0</td>\n",
       "      <td>1.0</td>\n",
       "      <td>later</td>\n",
       "    </tr>\n",
       "    <tr>\n",
       "      <th>7</th>\n",
       "      <td>29494587</td>\n",
       "      <td>2018</td>\n",
       "      <td>BACKGROUND:\\nMigrant and ethnic minority groups are often assumed to have poor health relative to the majority population. Few countries have the capacity to study a key indicator, mortality, by e...</td>\n",
       "      <td>1.0</td>\n",
       "      <td>1.0</td>\n",
       "      <td>later</td>\n",
       "    </tr>\n",
       "    <tr>\n",
       "      <th>...</th>\n",
       "      <td>...</td>\n",
       "      <td>...</td>\n",
       "      <td>...</td>\n",
       "      <td>...</td>\n",
       "      <td>...</td>\n",
       "      <td>...</td>\n",
       "    </tr>\n",
       "    <tr>\n",
       "      <th>18296</th>\n",
       "      <td>33296699</td>\n",
       "      <td>2020</td>\n",
       "      <td>Variants of bladder exstrophy are a rare but diverse spectrum of bladder exstrophy-epispadias complex. This case series describes a group of four unique exstrophy variant cases who had an intact p...</td>\n",
       "      <td>1.0</td>\n",
       "      <td>0.0</td>\n",
       "      <td>later</td>\n",
       "    </tr>\n",
       "    <tr>\n",
       "      <th>18297</th>\n",
       "      <td>33303767</td>\n",
       "      <td>2020</td>\n",
       "      <td>To better predict population evolution of invasive species in introduced areas it is critical to identify and understand the mechanisms driving genetic diversity and structure in their native rang...</td>\n",
       "      <td>1.0</td>\n",
       "      <td>0.0</td>\n",
       "      <td>later</td>\n",
       "    </tr>\n",
       "    <tr>\n",
       "      <th>18298</th>\n",
       "      <td>33303927</td>\n",
       "      <td>2020</td>\n",
       "      <td>Attachment of microorganisms to natural or artificial surfaces and the development of biofilms are complex processes which can be influenced by several factors. Nevertheless, our knowledge on biof...</td>\n",
       "      <td>1.0</td>\n",
       "      <td>0.0</td>\n",
       "      <td>later</td>\n",
       "    </tr>\n",
       "    <tr>\n",
       "      <th>18299</th>\n",
       "      <td>33306734</td>\n",
       "      <td>2020</td>\n",
       "      <td>Next-Generation Sequencing (NGS) technologies, by reducing the cost and increasing the throughput of sequencing, have opened doors to generate genomic data in a range of previously poorly studied ...</td>\n",
       "      <td>1.0</td>\n",
       "      <td>0.0</td>\n",
       "      <td>later</td>\n",
       "    </tr>\n",
       "    <tr>\n",
       "      <th>18300</th>\n",
       "      <td>33306954</td>\n",
       "      <td>2020</td>\n",
       "      <td>Hendra (HeV) and Nipah (NiV) viruses are emerging zoonotic pathogens in the Henipavirus genus causing outbreaks of disease with very high case fatality rates. Here, we report the first naturally o...</td>\n",
       "      <td>1.0</td>\n",
       "      <td>0.0</td>\n",
       "      <td>later</td>\n",
       "    </tr>\n",
       "  </tbody>\n",
       "</table>\n",
       "<p>15070 rows × 6 columns</p>\n",
       "</div>"
      ],
      "text/plain": [
       "        fk_pmid  year  \\\n",
       "0       8956565  1996   \n",
       "1      30764487  2019   \n",
       "3      29020025  2017   \n",
       "4      21863024  2011   \n",
       "7      29494587  2018   \n",
       "...         ...   ...   \n",
       "18296  33296699  2020   \n",
       "18297  33303767  2020   \n",
       "18298  33303927  2020   \n",
       "18299  33306734  2020   \n",
       "18300  33306954  2020   \n",
       "\n",
       "                                                                                                                                                                                                      abstract  \\\n",
       "0      OBJECTIVE:\\nDetermination of skeletal or bone age is often used in pediatrics and orthopedics. The most commonly used bone age standards in the United States, those published by Greulich and Pyle,...   \n",
       "1      Prenatal tobacco exposure is a significant, preventable cause of childhood morbidity, yet little is known about exposure risks for many race/ethnic subpopulations. We studied active smoking and en...   \n",
       "3      OBJECTIVE:\\nThe causes of the large and persistent Black-White disparity in preterm birth (PTB) are unknown. It is biologically plausible that chronic stress across a woman's life course could be ...   \n",
       "4      BACKGROUND:\\nThis study aimed to examine the incidence and survival of lung cancer patients from several different ethnic groups in a large ethnically diverse population in the United Kingdom.\\nME...   \n",
       "7      BACKGROUND:\\nMigrant and ethnic minority groups are often assumed to have poor health relative to the majority population. Few countries have the capacity to study a key indicator, mortality, by e...   \n",
       "...                                                                                                                                                                                                        ...   \n",
       "18296  Variants of bladder exstrophy are a rare but diverse spectrum of bladder exstrophy-epispadias complex. This case series describes a group of four unique exstrophy variant cases who had an intact p...   \n",
       "18297  To better predict population evolution of invasive species in introduced areas it is critical to identify and understand the mechanisms driving genetic diversity and structure in their native rang...   \n",
       "18298  Attachment of microorganisms to natural or artificial surfaces and the development of biofilms are complex processes which can be influenced by several factors. Nevertheless, our knowledge on biof...   \n",
       "18299  Next-Generation Sequencing (NGS) technologies, by reducing the cost and increasing the throughput of sequencing, have opened doors to generate genomic data in a range of previously poorly studied ...   \n",
       "18300  Hendra (HeV) and Nipah (NiV) viruses are emerging zoonotic pathogens in the Henipavirus genus causing outbreaks of disease with very high case fatality rates. Here, we report the first naturally o...   \n",
       "\n",
       "       diversity  soc_diversity sample  \n",
       "0            1.0            1.0  early  \n",
       "1            1.0            1.0  later  \n",
       "3            1.0            1.0  later  \n",
       "4            1.0            1.0  later  \n",
       "7            1.0            1.0  later  \n",
       "...          ...            ...    ...  \n",
       "18296        1.0            0.0  later  \n",
       "18297        1.0            0.0  later  \n",
       "18298        1.0            0.0  later  \n",
       "18299        1.0            0.0  later  \n",
       "18300        1.0            0.0  later  \n",
       "\n",
       "[15070 rows x 6 columns]"
      ]
     },
     "execution_count": 12,
     "metadata": {},
     "output_type": "execute_result"
    }
   ],
   "source": [
    "val = {1990:'early',1991:'early',1992:'early',1993:'early',1994:'early',1995:'early',1996:'early',1997:'early',1998:'early',1999:'early',2000:'early',\n",
    "       2010:'later',2011:'later',2012:'later',2013:'later',2014:'later',2015:'later',2016:'later',2017:'later',2018:'later',2019:'later',2020:'later'}\n",
    "diversity_abstracts['sample'] = diversity_abstracts['year'].map(val, na_action = 'ignore')\n",
    "diversity_abstracts_output = diversity_abstracts[diversity_abstracts['sample'].notnull()]\n",
    "diversity_abstracts_output"
   ]
  },
  {
   "cell_type": "code",
   "execution_count": 14,
   "metadata": {},
   "outputs": [
    {
     "data": {
      "text/plain": [
       "1.0    9514\n",
       "0.0    5556\n",
       "Name: soc_diversity, dtype: int64"
      ]
     },
     "execution_count": 14,
     "metadata": {},
     "output_type": "execute_result"
    }
   ],
   "source": [
    "len(diversity_abstracts_output)\n",
    "diversity_abstracts_output['soc_diversity'].value_counts()"
   ]
  },
  {
   "cell_type": "code",
   "execution_count": 17,
   "metadata": {},
   "outputs": [],
   "source": [
    "diversity_abstracts_output.to_csv('/sfs/qumulo/qhome/kb7hp/git/diversity/data/bert_data/diversity_test_abstracts.csv', index=False)"
   ]
  },
  {
   "cell_type": "code",
   "execution_count": null,
   "metadata": {},
   "outputs": [],
   "source": []
  }
 ],
 "metadata": {
  "kernelspec": {
   "display_name": "Python [conda env:.conda-brandon_env]",
   "language": "python",
   "name": "conda-env-.conda-brandon_env-py"
  },
  "language_info": {
   "codemirror_mode": {
    "name": "ipython",
    "version": 3
   },
   "file_extension": ".py",
   "mimetype": "text/x-python",
   "name": "python",
   "nbconvert_exporter": "python",
   "pygments_lexer": "ipython3",
   "version": "3.9.2"
  }
 },
 "nbformat": 4,
 "nbformat_minor": 4
}
